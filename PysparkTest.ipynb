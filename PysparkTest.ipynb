{
 "cells": [
  {
   "cell_type": "code",
   "execution_count": 14,
   "id": "65230975",
   "metadata": {},
   "outputs": [],
   "source": [
    "import pyspark\n",
    "from pyspark.sql import SparkSession\n",
    "from pyspark.sql.functions import *\n",
    "from pyspark.sql.types import *"
   ]
  },
  {
   "cell_type": "code",
   "execution_count": 15,
   "id": "9935ceda",
   "metadata": {},
   "outputs": [],
   "source": [
    "'''Session Creator'''\n",
    "spark = SparkSession.builder.appName(\"Datacamp Pyspark Tutorial\").getOrCreate()"
   ]
  },
  {
   "cell_type": "code",
   "execution_count": 18,
   "id": "07a2e9f8",
   "metadata": {},
   "outputs": [
    {
     "name": "stdout",
     "output_type": "stream",
     "text": [
      "(541909, 8, DataFrame[InvoiceNo: string, StockCode: string, Description: string, Quantity: string, InvoiceDate: string, UnitPrice: string, CustomerID: string, Country: string])\n",
      "+---------+---------+-----------------------------------+--------+------------+---------+----------+--------------+\n",
      "|InvoiceNo|StockCode|Description                        |Quantity|InvoiceDate |UnitPrice|CustomerID|Country       |\n",
      "+---------+---------+-----------------------------------+--------+------------+---------+----------+--------------+\n",
      "|536365   |85123A   |WHITE HANGING HEART T-LIGHT HOLDER |6       |12/1/10 8:26|2.55     |17850     |United Kingdom|\n",
      "|536365   |71053    |WHITE METAL LANTERN                |6       |12/1/10 8:26|3.39     |17850     |United Kingdom|\n",
      "|536365   |84406B   |CREAM CUPID HEARTS COAT HANGER     |8       |12/1/10 8:26|2.75     |17850     |United Kingdom|\n",
      "|536365   |84029G   |KNITTED UNION FLAG HOT WATER BOTTLE|6       |12/1/10 8:26|3.39     |17850     |United Kingdom|\n",
      "|536365   |84029E   |RED WOOLLY HOTTIE WHITE HEART.     |6       |12/1/10 8:26|3.39     |17850     |United Kingdom|\n",
      "+---------+---------+-----------------------------------+--------+------------+---------+----------+--------------+\n",
      "only showing top 5 rows\n",
      "\n"
     ]
    }
   ],
   "source": [
    "'''Data Receiver'''\n",
    "df = spark.read.csv('data/datacamp_ecommerce.csv',header=True,escape=\"\\\"\")\n",
    "print((df.count(), len(df.columns), df))\n",
    "df.show(5,0)"
   ]
  },
  {
   "cell_type": "code",
   "execution_count": 7,
   "id": "8c496cba",
   "metadata": {},
   "outputs": [
    {
     "name": "stdout",
     "output_type": "stream",
     "text": [
      "+---------------+-------------+\n",
      "|        Country|country_count|\n",
      "+---------------+-------------+\n",
      "| United Kingdom|         3950|\n",
      "|        Germany|           95|\n",
      "|         France|           87|\n",
      "|          Spain|           31|\n",
      "|        Belgium|           25|\n",
      "|    Switzerland|           21|\n",
      "|       Portugal|           19|\n",
      "|          Italy|           15|\n",
      "|        Finland|           12|\n",
      "|        Austria|           11|\n",
      "|         Norway|           10|\n",
      "|        Denmark|            9|\n",
      "|Channel Islands|            9|\n",
      "|      Australia|            9|\n",
      "|    Netherlands|            9|\n",
      "|         Sweden|            8|\n",
      "|         Cyprus|            8|\n",
      "|          Japan|            8|\n",
      "|         Poland|            6|\n",
      "|         Greece|            4|\n",
      "+---------------+-------------+\n",
      "only showing top 20 rows\n",
      "\n"
     ]
    }
   ],
   "source": [
    "df.groupBy('Country').agg(countDistinct('CustomerID').alias('country_count')).orderBy(desc('country_count')).show()"
   ]
  },
  {
   "cell_type": "code",
   "execution_count": 8,
   "id": "17259271",
   "metadata": {},
   "outputs": [
    {
     "name": "stdout",
     "output_type": "stream",
     "text": [
      "+-------------------+\n",
      "|          max(date)|\n",
      "+-------------------+\n",
      "|2012-12-10 16:21:00|\n",
      "+-------------------+\n",
      "\n"
     ]
    }
   ],
   "source": [
    "spark.sql(\"set spark.sql.legacy.timeParserPolicy=LEGACY\")\n",
    "df2 = df.withColumn('date',to_timestamp(\"InvoiceDate\", 'yy/MM/dd HH:mm'))\n",
    "df2.select(max(\"date\")).show()"
   ]
  },
  {
   "cell_type": "code",
   "execution_count": null,
   "id": "ac2d5dfa",
   "metadata": {},
   "outputs": [],
   "source": []
  }
 ],
 "metadata": {
  "kernelspec": {
   "display_name": "Python 3 (ipykernel)",
   "language": "python",
   "name": "python3"
  },
  "language_info": {
   "codemirror_mode": {
    "name": "ipython",
    "version": 3
   },
   "file_extension": ".py",
   "mimetype": "text/x-python",
   "name": "python",
   "nbconvert_exporter": "python",
   "pygments_lexer": "ipython3",
   "version": "3.11.7"
  },
  "toc": {
   "base_numbering": 1,
   "nav_menu": {},
   "number_sections": true,
   "sideBar": true,
   "skip_h1_title": false,
   "title_cell": "Table of Contents",
   "title_sidebar": "Contents",
   "toc_cell": false,
   "toc_position": {},
   "toc_section_display": true,
   "toc_window_display": false
  }
 },
 "nbformat": 4,
 "nbformat_minor": 5
}
