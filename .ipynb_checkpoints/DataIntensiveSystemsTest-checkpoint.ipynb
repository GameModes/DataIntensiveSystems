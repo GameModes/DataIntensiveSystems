{
 "cells": [
  {
   "cell_type": "code",
   "execution_count": 98,
   "id": "8195d3ef",
   "metadata": {},
   "outputs": [],
   "source": [
    "import numpy as np \n",
    "from scipy.sparse import csr_matrix "
   ]
  },
  {
   "cell_type": "markdown",
   "id": "0f795c77",
   "metadata": {},
   "source": [
    "# Small Doc size"
   ]
  },
  {
   "cell_type": "code",
   "execution_count": 74,
   "id": "d9fbc630",
   "metadata": {},
   "outputs": [],
   "source": [
    "doc1 = \"abcab\"\n",
    "doc2 = \"abfef\"\n",
    "doc3 = \"abcabfef\"\n",
    "\n",
    "doc4 = \"10111\"\n",
    "doc5 = \"10011\""
   ]
  },
  {
   "cell_type": "markdown",
   "id": "15b2b63c",
   "metadata": {},
   "source": [
    "## Shingle distance"
   ]
  },
  {
   "cell_type": "code",
   "execution_count": 80,
   "id": "f2a8f2c4",
   "metadata": {
    "code_folding": []
   },
   "outputs": [],
   "source": [
    "'''Shingling'''\n",
    "def shingling(word, k=2):\n",
    "    set_of_k_shingles = []\n",
    "    for i in range(len(word)):\n",
    "        shingle = word[i:i+k]\n",
    "        if len(shingle) == k and shingle not in set_of_k_shingles:\n",
    "            set_of_k_shingles.append(shingle)\n",
    "    return set_of_k_shingles"
   ]
  },
  {
   "cell_type": "code",
   "execution_count": 84,
   "id": "8e0fba9d",
   "metadata": {},
   "outputs": [
    {
     "name": "stdout",
     "output_type": "stream",
     "text": [
      "abcab ['ab', 'bc', 'ca']\n",
      "abfef ['ab', 'bf', 'fe', 'ef']\n",
      "abcabfef ['ab', 'bc', 'ca', 'bf', 'fe', 'ef']\n"
     ]
    }
   ],
   "source": [
    "print(doc1, shingling(doc1))\n",
    "print(doc2, shingling(doc2))\n",
    "print(doc3, shingling(doc3))"
   ]
  },
  {
   "cell_type": "code",
   "execution_count": 100,
   "id": "decd260d",
   "metadata": {
    "code_folding": []
   },
   "outputs": [],
   "source": [
    "'''Distance'''\n",
    "def shingling_distance(word1, word2):\n",
    "    sl1 = shingling(word1)\n",
    "    sl2 = shingling(word2)\n",
    "    distance_array = [0] * len(sl1)\n",
    "    for i in range(len(sl1)):\n",
    "        if list(sl1)[i] in sl2:\n",
    "            distance_array[i] = 1\n",
    "    print(distance_array)\n",
    "    return distance_array"
   ]
  },
  {
   "cell_type": "code",
   "execution_count": 109,
   "id": "ccd3ffa6",
   "metadata": {},
   "outputs": [
    {
     "name": "stdout",
     "output_type": "stream",
     "text": [
      "[1, 0, 0, 1, 1, 1]\n",
      "[1, 1, 1, 0, 0, 0]\n",
      "<class 'list'>\n"
     ]
    }
   ],
   "source": [
    "d2_sl = shingling_distance(doc3, doc2)\n",
    "d1_sl = shingling_distance(doc3, doc1)\n",
    "print(type(d2_sl))"
   ]
  },
  {
   "cell_type": "markdown",
   "id": "3ae07dc7",
   "metadata": {
    "heading_collapsed": true
   },
   "source": [
    "## Jaccard Distance"
   ]
  },
  {
   "cell_type": "code",
   "execution_count": 76,
   "id": "ea46e6ff",
   "metadata": {
    "code_folding": [
     0
    ],
    "hidden": true
   },
   "outputs": [],
   "source": [
    "def jaccard_distance(word1, word2):\n",
    "    intersection = 0\n",
    "    union = 0\n",
    "    for i in range(len(word1)):\n",
    "        if word1[i] == \"1\" or word2[i] == \"1\":\n",
    "            if word1[i] == word2[i]:\n",
    "                intersection += 1\n",
    "            union += 1\n",
    "    print(intersection, union)\n",
    "    jac_sim = intersection/union\n",
    "    jac_dist = 1-jac_sim\n",
    "    return jac_dist"
   ]
  },
  {
   "cell_type": "code",
   "execution_count": 86,
   "id": "667fcf34",
   "metadata": {
    "hidden": true
   },
   "outputs": [
    {
     "name": "stdout",
     "output_type": "stream",
     "text": [
      "3 4\n"
     ]
    },
    {
     "data": {
      "text/plain": [
       "0.25"
      ]
     },
     "execution_count": 86,
     "metadata": {},
     "output_type": "execute_result"
    }
   ],
   "source": [
    "jaccard_distance(doc4, doc5)"
   ]
  },
  {
   "cell_type": "markdown",
   "id": "a265c212",
   "metadata": {},
   "source": [
    "# Big Doc size"
   ]
  },
  {
   "cell_type": "code",
   "execution_count": 111,
   "id": "2608de48",
   "metadata": {},
   "outputs": [
    {
     "name": "stdout",
     "output_type": "stream",
     "text": [
      "Boolean Matrix:\n",
      "[[ True  True]\n",
      " [ True  True]\n",
      " [False False]\n",
      " [False False]\n",
      " [False False]\n",
      " [False False]]\n"
     ]
    }
   ],
   "source": [
    "import numpy as np\n",
    "\n",
    "# Given lists representing sets\n",
    "sl4 = [1, 0, 0, 1, 1, 1]\n",
    "sl5 = [0, 1, 0, 1, 1, 1]\n",
    "\n",
    "# Create the universal set (assuming all elements in the lists are unique)\n",
    "universal_set = set(range(len(sl4)))\n",
    "\n",
    "# Initialize the boolean matrix\n",
    "boolean_matrix = np.zeros((len(universal_set), 2), dtype=bool)\n",
    "\n",
    "# Update the boolean matrix based on set membership\n",
    "for i, s in enumerate([sl4, sl5]):\n",
    "    for j, element in enumerate(universal_set):\n",
    "        if element in s:\n",
    "            boolean_matrix[j, i] = 1\n",
    "\n",
    "print(\"Boolean Matrix:\")\n",
    "print(boolean_matrix)\n"
   ]
  },
  {
   "cell_type": "markdown",
   "id": "8aa14df9",
   "metadata": {},
   "source": [
    "## Column Similarity"
   ]
  },
  {
   "cell_type": "code",
   "execution_count": null,
   "id": "4f3be0d4",
   "metadata": {},
   "outputs": [],
   "source": []
  },
  {
   "cell_type": "code",
   "execution_count": null,
   "id": "7c553a02",
   "metadata": {},
   "outputs": [],
   "source": []
  },
  {
   "cell_type": "code",
   "execution_count": null,
   "id": "afd78059",
   "metadata": {},
   "outputs": [],
   "source": []
  },
  {
   "cell_type": "code",
   "execution_count": null,
   "id": "76453313",
   "metadata": {},
   "outputs": [],
   "source": []
  }
 ],
 "metadata": {
  "kernelspec": {
   "display_name": "Python 3 (ipykernel)",
   "language": "python",
   "name": "python3"
  },
  "language_info": {
   "codemirror_mode": {
    "name": "ipython",
    "version": 3
   },
   "file_extension": ".py",
   "mimetype": "text/x-python",
   "name": "python",
   "nbconvert_exporter": "python",
   "pygments_lexer": "ipython3",
   "version": "3.11.7"
  },
  "toc": {
   "base_numbering": 1,
   "nav_menu": {},
   "number_sections": true,
   "sideBar": true,
   "skip_h1_title": false,
   "title_cell": "Table of Contents",
   "title_sidebar": "Contents",
   "toc_cell": false,
   "toc_position": {},
   "toc_section_display": true,
   "toc_window_display": false
  }
 },
 "nbformat": 4,
 "nbformat_minor": 5
}
